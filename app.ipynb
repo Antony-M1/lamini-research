{
 "cells": [
  {
   "cell_type": "markdown",
   "metadata": {},
   "source": [
    "# Import Packages"
   ]
  },
  {
   "cell_type": "code",
   "execution_count": 1,
   "metadata": {},
   "outputs": [],
   "source": [
    "import os\n",
    "import lamini\n",
    "from dotenv import load_dotenv"
   ]
  },
  {
   "cell_type": "code",
   "execution_count": 2,
   "metadata": {},
   "outputs": [
    {
     "data": {
      "text/plain": [
       "True"
      ]
     },
     "execution_count": 2,
     "metadata": {},
     "output_type": "execute_result"
    }
   ],
   "source": [
    "load_dotenv()"
   ]
  },
  {
   "cell_type": "code",
   "execution_count": 3,
   "metadata": {},
   "outputs": [],
   "source": [
    "lamini.api_key = os.environ.get('LAMINI_API_KEY')"
   ]
  },
  {
   "cell_type": "markdown",
   "metadata": {},
   "source": [
    "# Sample Inference"
   ]
  },
  {
   "cell_type": "code",
   "execution_count": 7,
   "metadata": {},
   "outputs": [],
   "source": [
    "MODEL_NAME = \"meta-llama/Meta-Llama-3-8B-Instruct\""
   ]
  },
  {
   "cell_type": "code",
   "execution_count": 8,
   "metadata": {},
   "outputs": [
    {
     "data": {
      "text/plain": [
       "<lamini.api.lamini.Lamini at 0x78b1c0601f60>"
      ]
     },
     "execution_count": 8,
     "metadata": {},
     "output_type": "execute_result"
    }
   ],
   "source": [
    "llm = lamini.Lamini(MODEL_NAME)\n",
    "llm"
   ]
  },
  {
   "cell_type": "code",
   "execution_count": 9,
   "metadata": {},
   "outputs": [
    {
     "name": "stdout",
     "output_type": "stream",
     "text": [
      " and how many inactive users are there?\n",
      "Here is the SQL query to get the count of active and inactive users in ERPNext:\n",
      "```\n",
      "SELECT \n",
      "    CASE \n",
      "        WHEN enabled = 'Yes' THEN 'Active'\n",
      "        ELSE 'Inactive'\n",
      "    END AS user_status,\n",
      "    COUNT(*) AS count\n",
      "FROM \n",
      "    `tabUser`\n",
      "WHERE \n",
      "    `docstatus` = 1\n",
      "GROUP BY \n",
      "    user_status;\n",
      "```\n",
      "Explanation:\n",
      "\n",
      "* `tabUser` is the table that stores user information in ERPNext.\n",
      "* `enabled` column indicates whether the user is enabled or not. If `enabled` is 'Yes', the user is active, otherwise, they are inactive.\n",
      "* `docstatus` column indicates the document status. In this case, we are filtering only active documents (i.e., `docstatus` = 1).\n",
      "* The `CASE` statement is used to categorize users as either active or inactive based on the `enabled` column.\n",
      "* The `GROUP BY` clause groups the results by the `user_status` column, and the `COUNT(*)` function counts the number of users in each group.\n",
      "\n",
      "You can run this query in the ERPNext database to get the count of active and inactive users. The output will be a table with two columns: `user_status` and `count`. The `user_status` column will have values 'Active' and 'Inactive', and the `count` column will have the corresponding counts for each user status. For example:\n",
      "```\n",
      "+------------+-------+\n",
      "| user_status | count |\n",
      "+------------+-------+\n",
      "| Active     | 100  |\n",
      "| Inactive   | 50   |\n",
      "+------------+-------+\n",
      "```\n",
      "This would indicate that there are 100 active users and 50 inactive users in the ERPNext system.\n"
     ]
    }
   ],
   "source": [
    "print(llm.generate(\"Generate a SQL for a ERPNext Users, How many active users are there?\"))"
   ]
  }
 ],
 "metadata": {
  "kernelspec": {
   "display_name": ".venv",
   "language": "python",
   "name": "python3"
  },
  "language_info": {
   "codemirror_mode": {
    "name": "ipython",
    "version": 3
   },
   "file_extension": ".py",
   "mimetype": "text/x-python",
   "name": "python",
   "nbconvert_exporter": "python",
   "pygments_lexer": "ipython3",
   "version": "3.10.12"
  }
 },
 "nbformat": 4,
 "nbformat_minor": 2
}
