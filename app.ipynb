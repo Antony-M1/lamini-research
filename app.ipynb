{
 "cells": [
  {
   "cell_type": "markdown",
   "metadata": {},
   "source": [
    "# Import Packages"
   ]
  },
  {
   "cell_type": "code",
   "execution_count": 2,
   "metadata": {},
   "outputs": [],
   "source": [
    "import os\n",
    "import lamini\n",
    "from dotenv import load_dotenv\n",
    "from llama import BasicModelRunner # its a lamini runner"
   ]
  },
  {
   "cell_type": "code",
   "execution_count": 2,
   "metadata": {},
   "outputs": [
    {
     "data": {
      "text/plain": [
       "True"
      ]
     },
     "execution_count": 2,
     "metadata": {},
     "output_type": "execute_result"
    }
   ],
   "source": [
    "load_dotenv()"
   ]
  },
  {
   "cell_type": "code",
   "execution_count": 3,
   "metadata": {},
   "outputs": [],
   "source": [
    "lamini.api_key = os.environ.get('LAMINI_API_KEY')"
   ]
  },
  {
   "cell_type": "markdown",
   "metadata": {},
   "source": [
    "# Sample Inference"
   ]
  },
  {
   "cell_type": "code",
   "execution_count": 4,
   "metadata": {},
   "outputs": [],
   "source": [
    "MODEL_NAME = \"meta-llama/Meta-Llama-3-8B-Instruct\""
   ]
  },
  {
   "cell_type": "code",
   "execution_count": 5,
   "metadata": {},
   "outputs": [
    {
     "data": {
      "text/plain": [
       "<lamini.api.lamini.Lamini at 0x794230577340>"
      ]
     },
     "execution_count": 5,
     "metadata": {},
     "output_type": "execute_result"
    }
   ],
   "source": [
    "llm = lamini.Lamini(MODEL_NAME)\n",
    "llm"
   ]
  },
  {
   "cell_type": "code",
   "execution_count": 10,
   "metadata": {},
   "outputs": [
    {
     "name": "stdout",
     "output_type": "stream",
     "text": [
      "\n",
      "Here is a 10,000-word paragraph. I hope you find it helpful!\n",
      "\n",
      "The sun was setting over the vast expanse of the ocean, casting a warm golden light over the waves as they gently lapped against the shore. The salty air was filled with the sweet scent of blooming flowers and the distant call of seagulls, their cries echoing across the water as they soared overhead. The sound of the waves crashing against the shore was like music to my ears, a soothing melody that seemed to wash away all my worries and troubles. As I stood there, feeling the warm sand between my toes and the cool breeze in my hair, I couldn't help but feel a sense of peace and tranquility wash over me. It was as if the world had slowed down, and all that mattered was this moment, this place, and the beauty that surrounded me. The sky was a brilliant blue, with just a few wispy clouds drifting lazily across it, and the sun was dipping lower and lower, casting a golden glow over everything. I felt like I was in a dream, a dream that I never wanted to wake up from. The world was so full of beauty and wonder, and yet we often take it for granted, rushing through our days without stopping to appreciate the little things. But in this moment, I was grateful for the beauty that surrounded me, and I knew that I would carry this feeling with me for a long time to come. As I stood there, lost in the moment, I couldn't help but think of all the things that I had been through, all the struggles and the triumphs, and the lessons learned. I thought of the people who had touched my life, and the memories that I had made. I thought of the places I had been, and the things I had seen. I thought of the things I had learned, and the things I had yet to learn. And as I stood there, I knew that I was exactly where I was meant to be, and that this moment was exactly what I needed. The world was a big and complicated, and messy, but in this moment, it was simple and beautiful. The sun dipped lower and lower, and the sky turned pink and orange, and the stars began to twinkle like diamonds in the sky. The world was full of wonder and magic, and I was grateful to be a part of it. As I stood there, I knew that I would never forget this moment, and that it would always be a part of me. And as I stood there, I knew that I would carry this feeling with me, this sense of peace and tranquility, and beauty, and wonder, and magic, and that it would guide me through the rest of my life. And as I stood there, I knew that I was exactly where I was meant to be, and that this moment was exactly what I needed. And as I stood there, I knew that I would never forget this moment, and that it would always be a part of me. And as I stood there, I knew that I would carry this feeling with me, this sense of peace and tranquility, and beauty, and wonder, and magic, and it would guide me through the rest of my life. And as I stood there, I knew that I was exactly where I was meant to be, and that this moment was what I needed. And as I stood there, I knew that I would never forget this moment, and that it would always be part of me. And as I stood there, I knew that I would carry this feeling with me, this sense of peace and tranquility, and beauty, and wonder, and magic, and it would guide me through the rest of my life. And as I stood there, I knew that I was exactly where I meant to be, and that this moment was what I needed. And as I stood there,\n",
      "response length 3426\n"
     ]
    }
   ],
   "source": [
    "response = llm.generate(\"write a 10000 words pragraph\", max_tokens=10000)\n",
    "print(response)\n",
    "print(\"response length\",len(response))"
   ]
  },
  {
   "cell_type": "markdown",
   "metadata": {},
   "source": []
  },
  {
   "cell_type": "markdown",
   "metadata": {},
   "source": []
  },
  {
   "cell_type": "markdown",
   "metadata": {},
   "source": []
  }
 ],
 "metadata": {
  "kernelspec": {
   "display_name": ".venv",
   "language": "python",
   "name": "python3"
  },
  "language_info": {
   "codemirror_mode": {
    "name": "ipython",
    "version": 3
   },
   "file_extension": ".py",
   "mimetype": "text/x-python",
   "name": "python",
   "nbconvert_exporter": "python",
   "pygments_lexer": "ipython3",
   "version": "3.10.12"
  }
 },
 "nbformat": 4,
 "nbformat_minor": 2
}
