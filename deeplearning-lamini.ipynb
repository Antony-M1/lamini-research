{
 "cells": [
  {
   "cell_type": "markdown",
   "metadata": {},
   "source": [
    "# README\n",
    "\n",
    "This file all contains about a tutorial [learn.deeplearning.ai fine-tune-llm](https://learn.deeplearning.ai/courses/finetuning-large-language-models)"
   ]
  },
  {
   "cell_type": "markdown",
   "metadata": {},
   "source": [
    "# Install & Import"
   ]
  },
  {
   "cell_type": "code",
   "execution_count": 37,
   "metadata": {},
   "outputs": [
    {
     "data": {
      "text/plain": [
       "True"
      ]
     },
     "execution_count": 37,
     "metadata": {},
     "output_type": "execute_result"
    }
   ],
   "source": [
    "import os\n",
    "import lamini\n",
    "import textwrap\n",
    "from llama import BasicModelRunner\n",
    "from dotenv import load_dotenv\n",
    "import jsonlines\n",
    "import itertools\n",
    "import pandas as pd\n",
    "from pprint import pprint\n",
    "\n",
    "import datasets\n",
    "from datasets import load_dataset\n",
    "\n",
    "from transformers import AutoTokenizer, AutoModelForCausalLM\n",
    "from transformers import AutoModelForSeq2SeqLM, AutoTokenizer\n",
    "\n",
    "load_dotenv()"
   ]
  },
  {
   "cell_type": "code",
   "execution_count": 38,
   "metadata": {},
   "outputs": [],
   "source": [
    "SUPPORTED_MODELS_BY_LAMINI = [\n",
    "    'EleutherAI/pythia-410m',\n",
    "    'EleutherAI/pythia-70m',\n",
    "    'hf-internal-testing/tiny-random-gpt2',\n",
    "    'meta-llama/Llama-2-13b-chat-hf',\n",
    "    'meta-llama/Llama-2-7b-chat-hf',\n",
    "    'meta-llama/Llama-2-7b-hf',\n",
    "    'meta-llama/Meta-Llama-3-8B-Instruct',\n",
    "    'microsoft/phi-2',\n",
    "    'microsoft/Phi-3-mini-4k-instruct',\n",
    "    'mistralai/Mistral-7B-Instruct-v0.1',\n",
    "    'mistralai/Mistral-7B-Instruct-v0.2',\n",
    "    'Qwen/Qwen2-7B-Instruct'\n",
    "]"
   ]
  },
  {
   "cell_type": "markdown",
   "metadata": {},
   "source": [
    "# Why finetune"
   ]
  },
  {
   "cell_type": "code",
   "execution_count": 22,
   "metadata": {},
   "outputs": [],
   "source": [
    "lamini.api_url = os.getenv(\"http://jupyter-api-proxy.internal.dlai/rev-proxy/lamini\")\n",
    "lamini.api_key = os.getenv(\"LAMINI_API_KEY\")"
   ]
  },
  {
   "cell_type": "markdown",
   "metadata": {},
   "source": [
    "## None finetuned Model"
   ]
  },
  {
   "cell_type": "code",
   "execution_count": 6,
   "metadata": {},
   "outputs": [
    {
     "data": {
      "text/plain": [
       "<lamini.runners.basic_model_runner.BasicModelRunner at 0x7808422679d0>"
      ]
     },
     "execution_count": 6,
     "metadata": {},
     "output_type": "execute_result"
    }
   ],
   "source": [
    "non_finetuned = BasicModelRunner(\"meta-llama/Llama-2-7b-hf\")\n",
    "non_finetuned"
   ]
  },
  {
   "cell_type": "code",
   "execution_count": 11,
   "metadata": {},
   "outputs": [
    {
     "name": "stdout",
     "output_type": "stream",
     "text": [
      ". Tell me how to train my dog to sit. I have a 10 month old puppy and I want to\n",
      "train him to sit. I have tried the treat method and the verbal command method. I\n",
      "have tried both and he just doesn't seem to get it. I have tried to get him to\n",
      "sit by putting my hand on his back and pushing him down. I have tried to get him\n",
      "to sit by putting my hand on his back and pushing him down. I have tried to get\n",
      "him to sit by putting my hand on his back and pushing him down. I have tried to\n",
      "get him to sit by putting my hand on his back and pushing him down. I have tried\n",
      "to get him to sit by putting my hand on his back and pushing him down. I have\n",
      "tried to get him to sit by putting my hand on his back and pushing him down. I\n",
      "have tried to get him to sit by putting my hand on his back and pushing him\n",
      "down. I have tried to get him to sit by putting my hand on his back and pushing\n",
      "him down. I have tried to get him to sit by putting my hand on his back and\n",
      "pushing him down. I have tried to get him to sit by putting my hand on his back\n",
      "and pushing him down. I have tried to get him to sit by putting my hand on his\n",
      "back and pushing him down. I have tried to get him to sit by putting my hand on\n",
      "his back and pushing him down. I have tried to get him to sit by putting my hand\n",
      "on his back and pushing him down. I have tried to get him to sit by putting my\n",
      "hand on his back and pushing him down. I have tried to get him to sit by putting\n",
      "my hand on his back and pushing him down. I have tried to get him to sit by\n",
      "putting my hand on his back and pushing him down. I have tried to get him to sit\n",
      "by putting my hand on his back and pushing him down. I have tried to get him to\n",
      "sit by putting my hand on his back and pushing him down. I have tried to get him\n",
      "to sit by putting my hand on his back and pushing him down. I have tried to get\n",
      "him to sit by putting my hand on his back and pushing him down. I have tried to\n",
      "get him to sit by putting my hand on his back and pushing him down. I have tried\n",
      "to get him to sit by putting my hand on his back and pushing him down. I have\n",
      "tried to get him to sit by putting my hand on his back and pushing him down. I\n",
      "have tried to get him to sit by putting my hand on his back and pushing him\n",
      "down. I have tried to get him to sit by putting my hand on his back and pushing\n",
      "him down. I have tried to get him to sit by putting my hand on his back and\n",
      "pushing him down. I have tried to get him to sit by putting my hand on his back\n",
      "and pushing him down. I have tried to get him to sit by putting my hand on his\n",
      "back and pushing him down. I have tried to get him to sit by putting my hand on\n",
      "his back and pushing him down. I have tried to get him to sit by putting my hand\n",
      "on his back and pushing him down. I have tried to get him to sit by putting my\n",
      "hand on his back and pushing him down. I have tried to get him to sit by putting\n",
      "my hand on his back and pushing him down. I have tried to get him to sit by\n",
      "putting my hand on his back and pushing him down. I have tried to get him to sit\n",
      "by putting my hand on his back and pushing him down. I have tried to get him to\n",
      "sit by putting my hand on his back and pushing him down. I have tried to get him\n",
      "to sit by putting my hand on his back and pushing him down. I have tried to get\n",
      "him to sit by putting my hand on his back and pushing him down. I have tried to\n",
      "get him to sit by putting my hand on his back and pushing him down. I have tried\n",
      "to get him to sit by putting my hand on his back and pushing him down. I have\n",
      "tried to get him to sit by putting my hand on his back and pushing him down. I\n",
      "have tried to get him to sit by putting my hand on his back and pushing him\n",
      "down. I have tried to get him to sit by putting my hand on his back and pushing\n",
      "him down. I have tried to get him to sit by putting my hand on his back and\n",
      "pushing him down. I have tried to get him to sit by putting my hand on his back\n",
      "and pushing him down. I have tried to get him to sit by putting my hand on his\n",
      "back and pushing him down. I have tried to get him to sit by putting my hand on\n",
      "his back and pushing him down. I have tried to get him to sit by putting my hand\n",
      "on his back and pushing him down. I have tried to get him to sit by putting my\n",
      "hand on his back and pushing him down. I have tried to get him to sit by putting\n",
      "my hand on his back and pushing him down. I have tried to get him to sit by\n",
      "putting my hand on his back and pushing him down. I have tried to get him to sit\n",
      "by putting my hand on his back and pushing him down. I have tried to get him to\n",
      "sit by putting my hand on his back and pushing him down. I have tried to get him\n",
      "to sit by putting my hand on his back and pushing him down. I have tried to get\n",
      "him to sit by putting my hand on his back and pushing him down. I have tried to\n",
      "get him to sit by putting my hand on his back and pushing him down. I have tried\n",
      "to get him to sit by putting my hand on his back and pushing him down. I have\n",
      "tried to get him to sit by putting my hand on his back and pushing him down. I\n",
      "have tried to get him to sit by putting my hand on his back and pushing him\n",
      "down. I have tried to get him to sit by putting my hand on his back and pushing\n",
      "him down. I have tried to get him to sit by putting my hand on his back and\n",
      "pushing him down. I have tried to get him to sit by putting my hand on his back\n",
      "and pushing him down. I have tried to get him to sit by putting my hand on his\n",
      "back and pushing him down. I have tried to get him to sit by putting my hand on\n",
      "his back and pushing him down. I have tried to get him to sit by putting my hand\n",
      "on his back and pushing him down. I have tried to get him to sit by putting my\n",
      "hand on his back and pushing him down. I have tried to get him to sit by putting\n",
      "my hand on his back and pushing him down. I have tried to get him to sit by\n",
      "putting my hand on his back and pushing him down. I have tried to get him to sit\n",
      "by putting my hand on his back and pushing him down. I have tried to get him to\n",
      "sit by putting my hand on his back and pushing him down. I have tried to get him\n",
      "to sit by putting my hand on his back and pushing him down. I have tried to get\n",
      "him to sit by putting my hand on his back and pushing him down. I have tried to\n",
      "get him to sit by putting my hand on his back and pushing him down. I have tried\n",
      "to get him to sit by putting my hand on his back and pushing him down. I have\n",
      "tried to get him to sit by putting my hand on his back and pushing him down. I\n",
      "have tried to get him to sit by putting my hand on his back and pushing him\n",
      "down. I have tried to get him to sit by putting my hand on his back and pushing\n",
      "him down. I have tried to get him to sit by putting my hand on his back and\n",
      "pushing him down. I have tried to get him to sit by putting my hand on his back\n",
      "and pushing him down. I have tried to get him to sit by putting my hand on his\n",
      "back and pushing him down. I have tried to get him to sit by putting my hand on\n",
      "his back and pushing him down. I have tried to get him to sit by putting my hand\n",
      "on his back and pushing him\n"
     ]
    }
   ],
   "source": [
    "non_finetuned_output = non_finetuned(\"Tell me how to train my dog to sit\")\n",
    "\n",
    "wrapped_text = textwrap.fill(non_finetuned_output, width=80)\n",
    "print(wrapped_text)"
   ]
  },
  {
   "cell_type": "markdown",
   "metadata": {},
   "source": [
    "The above response is not good its repeat a sentence multiple times"
   ]
  },
  {
   "cell_type": "markdown",
   "metadata": {},
   "source": [
    "## Compare to finetuned models \n"
   ]
  },
  {
   "cell_type": "code",
   "execution_count": 13,
   "metadata": {},
   "outputs": [],
   "source": [
    "finetuned_model = BasicModelRunner(\"meta-llama/Llama-2-7b-chat-hf\")"
   ]
  },
  {
   "cell_type": "code",
   "execution_count": 16,
   "metadata": {},
   "outputs": [
    {
     "name": "stdout",
     "output_type": "stream",
     "text": [
      "on command. Training a dog to sit on command is a basic obedience\n",
      "command that can be achieved with patience, consistency, and positive\n",
      "reinforcement. Here's a step-by-step guide on how to train your dog to\n",
      "sit on command:  1. Choose a quiet and distraction-free area: Find a\n",
      "quiet area with minimal distractions where your dog can focus on you.\n",
      "2. Have treats ready: Choose your dog's favorite treats and have them\n",
      "ready to use as rewards. 3. Stand in front of your dog: Stand in front\n",
      "of your dog and hold a treat close to their nose. 4. Move the treat up\n",
      "and back: Slowly move the treat up and back, towards your dog's tail,\n",
      "while saying \"sit\" in a calm and clear voice. 5. Dog will sit: As you\n",
      "move the treat, your dog will naturally sit down to follow the treat.\n",
      "The moment their bottom touches the ground, say \"good sit\" and give\n",
      "them the treat. 6. Repeat the process: Repeat steps 3-5 several times,\n",
      "so your dog starts to associate the command \"sit\" with the action of\n",
      "sitting down. 7. Gradually phase out the treats: As your dog becomes\n",
      "more comfortable with the command, start to phase out the treats.\n",
      "Instead, use praise and affection as rewards. 8. Practice, practice,\n",
      "practice: Practice the \"sit\" command in different locations, with\n",
      "different distractions, and at different times of the day. This will\n",
      "help your dog understand that the command is not just a trick, but a\n",
      "basic obedience command. 9. Be consistent: Consistency is key when\n",
      "training a dog. Make sure everyone in the household is using the same\n",
      "command and reward system. 10. Be patient: Training a dog takes time\n",
      "and patience. Don't get frustrated if your dog doesn't pick up the\n",
      "command immediately. Keep practicing and eventually, your dog will\n",
      "learn.  Remember, training a dog is a journey, and it's important to\n",
      "be patient, consistent, and positive. With time and practice, your dog\n",
      "will learn to sit on command and other basic obedience commands.\n"
     ]
    }
   ],
   "source": [
    "finetuned_output = finetuned_model(\"Tell me how to train my dog to sit\")\n",
    "\n",
    "wrapped_text = textwrap.fill(finetuned_output)\n",
    "print(wrapped_text)"
   ]
  },
  {
   "cell_type": "code",
   "execution_count": 17,
   "metadata": {},
   "outputs": [
    {
     "name": "stdout",
     "output_type": "stream",
     "text": [
      " Training your dog to sit is a basic obedience command that can be achieved with patience, consistency, and positive reinforcement. Here's a step-by-step guide on how to train your dog to sit:\n",
      "\n",
      "1. Choose a quiet and distraction-free area: Find a quiet area with no distractions where your dog can focus on you.\n",
      "2. Have treats ready: Choose your dog's favorite treats and have them ready to use as rewards.\n",
      "3. Stand in front of your dog: Stand in front of your dog and hold a treat close to their nose.\n",
      "4. Move the treat up and back: Slowly move the treat up and back, towards your dog's tail, while saying \"sit\" in a calm and clear voice.\n",
      "5. Dog will sit: As you move the treat, your dog will naturally sit down to follow the treat. The moment their bottom touches the ground, say \"good sit\" and give them the treat.\n",
      "6. Repeat the process: Repeat steps 3-5 several times, so your dog starts to associate the command \"sit\" with the action of sitting down.\n",
      "7. Gradually phase out the treats: As your dog becomes more comfortable with the command, start to phase out the treats. Instead, use praise and affection as rewards.\n",
      "8. Practice, practice, practice: Practice the \"sit\" command in different locations, with different distractions, and at different times of the day. This will help your dog understand that the command is not just a trick, but a basic obedience command.\n",
      "9. Be consistent: Consistency is key when training a dog. Make sure everyone in the household is using the same command and reward system.\n",
      "10. Be patient: Training a dog takes time and patience. Don't get frustrated if your dog doesn't pick up the command immediately. Keep practicing and eventually, your dog will learn.\n",
      "\n",
      "Additional tips:\n",
      "\n",
      "* Start training early: The earlier you start training your dog, the easier it will be for them to learn.\n",
      "* Use a consistent command: Choose a consistent command for \"sit\" and use it every time you want your dog to sit.\n",
      "* Use a gentle touch: When using the command, use a gentle touch on your dog's nose to guide them into the sitting position.\n",
      "* Be clear and concise: Use a clear and concise command, such as \"sit\" or \"down,\" and avoid using long sentences or complicated words.\n",
      "* Practice in different situations: Practice the \"sit\" command in different situations, such as during walks, in the park, or at home, to help your dog understand that the command is not just a trick, but a basic obedience command.\n",
      "\n",
      "Remember, training a dog takes time, patience, and consistency. With positive reinforcement and repetition, your dog will learn the \"sit\" command in no time.\n"
     ]
    }
   ],
   "source": [
    "print(finetuned_model(\"[INST]Tell me how to train my dog to sit[/INST]\"))"
   ]
  },
  {
   "cell_type": "code",
   "execution_count": 18,
   "metadata": {},
   "outputs": [
    {
     "name": "stdout",
     "output_type": "stream",
     "text": [
      "\n",
      "[INST]Tell me how to train my dog to sit[/INST]\n",
      "[INST]Tell me how to train my dog to sit[/INST] [INST]Tell me how to train my dog to sit[/INST] [INST]Tell me how to train my dog to sit[/INST] [INST]Tell me how to train my dog to sit[/INST] [INST]Tell me how to train my dog to sit[/INST] [INST]Tell me how to train my dog to sit[/INST] [INST]Tell me how to train my dog to sit[/INST] [INST]Tell me how to train my dog to sit[/INST] [INST]Tell me how to train my dog to sit[/INST] [INST]Tell me how to train my dog to sit[/INST] [INST]Tell me how to train my dog to sit[/INST] [INST]Tell me how to train my dog to sit[/INST] [INST]Tell me how to train my dog to sit[/INST] [INST]Tell me how to train my dog to sit[/INST] [INST]Tell me how to train my dog to sit[/INST] [INST]Tell me how to train my dog to sit[/INST] [INST]Tell me how to train my dog to sit[/INST] [INST]Tell me how to train my dog to sit[/INST] [INST]Tell me how to train my dog to sit[/INST] [INST]Tell me how to train my dog to sit[/INST] [INST]Tell me how to train my dog to sit[/INST] [INST]Tell me how to train my dog to sit[/INST] [INST]Tell me how to train my dog to sit[/INST] [INST]Tell me how to train my dog to sit[/INST] [INST]Tell me how to train my dog to sit[/INST] [INST]Tell me how to train my dog to sit[/INST] [INST]Tell me how to train my dog to sit[/INST] [INST]Tell me how to train my dog to sit[/INST] [INST]Tell me how to train my dog to sit[/INST] [INST]Tell me how to train my dog to sit[/INST] [INST]Tell me how to train my dog to sit[/INST] [INST]Tell me how to train my dog to sit[/INST] [INST]Tell me how to train my dog to sit[/INST] [INST]Tell me how to train my dog to sit[/INST] [INST]Tell me how to train my dog to sit[/INST] [INST]Tell me how to train my dog to sit[/INST] [INST]Tell me how to train my dog to sit[/INST] [INST]Tell me how to train my dog to sit[/INST] [INST]Tell me how to train my dog to sit[/INST] [INST]Tell me how to train my dog to sit[/INST] [INST]Tell me how to train my dog to sit[/INST] [INST]Tell me how to train my dog to sit[/INST] [INST]Tell me how to train my dog to sit[/INST] [INST]Tell me how to train my dog to sit[/INST] [INST]Tell me how to train my dog to sit[/INST] [INST]Tell me how to train my dog to sit[/INST] [INST]Tell me how to train my dog to sit[/INST] [INST]Tell me how to train my dog to sit[/INST] [INST]Tell me how to train my dog to sit[/INST] [INST]Tell me how to train my dog to sit[/INST] [INST]Tell me how to train my dog to sit[/INST] [INST]Tell me how to train my dog to sit[/INST] [INST]Tell me how to train my dog to sit[/INST] [INST]Tell me how to train my dog to sit[/INST] [INST]Tell me how to train my dog to sit[/INST] [INST]Tell me how to train my dog to sit[/INST] [INST]Tell me how to train my dog to sit[/INST] [INST]Tell me how to train my dog to sit[/INST] [INST]Tell me how to train my dog to sit[/INST] [INST]Tell me how to train my dog to sit[/INST] [INST]Tell me how to train my dog to sit[/INST] [INST]Tell me how to train my dog to sit[/INST] [INST]Tell me how to train my dog to sit[/INST] [INST]Tell me how to train my dog to sit[/INST] [INST]Tell me how to train my dog to sit[/INST] [INST]Tell me how to train my dog to sit[/INST] [INST]Tell me how to train my dog to sit[/INST] [INST]Tell me how to train my dog to sit[/INST] [INST]Tell me how to train my dog to sit[/INST] [INST]Tell me how to train my dog to sit[/INST] [INST]Tell me how to train my dog to sit[/INST] [INST]Tell me how to train my dog to sit[/INST] [INST]Tell me how to train my dog to sit[/INST] [INST]Tell me how to train my dog to sit[/INST] [INST]Tell me how to train my dog to sit[/INST] [INST]Tell me how to train my dog to sit[/INST] [INST]Tell me how to train my dog to sit[/INST] [INST]Tell me how to train my dog to sit[/INST] [INST]Tell me how to train my dog to sit[/INST] [INST]Tell me how to train my dog to sit[/INST] [INST]Tell me how to train my dog to sit[/INST] [INST]Tell me how to train my dog to sit[/INST] [INST]Tell me how to train my dog to sit[/INST] [INST]Tell me how to train my dog to sit[/INST] [INST]Tell me how to train my dog to sit[/INST] [INST]Tell me how to train my dog to sit[/INST] [INST]Tell me how to train my dog to sit[/INST] [INST]Tell me how to train my dog to sit[/INST] [INST]Tell me how to train my dog to sit[/INST] [INST]Tell me how to train my dog to sit[/INST] [INST]Tell me how to train my dog to sit[/INST] [INST]Tell me how to train my dog to sit[/INST] [INST]Tell me how to train my dog to sit[/INST] [INST]Tell me how to train my dog to sit[/INST] [INST]Tell me how to train my dog to sit[/INST] [INST]Tell me how to train my dog to sit[/INST] [INST]Tell me how\n"
     ]
    }
   ],
   "source": [
    "print(non_finetuned(\"[INST]Tell me how to train my dog to sit[/INST]\"))"
   ]
  },
  {
   "cell_type": "markdown",
   "metadata": {},
   "source": [
    "# Finetuning data: compare to pretraining and basic preparation\n",
    "\n",
    "Or\n",
    "\n",
    "`Where finetune fits in?`\n",
    "\n",
    "\n",
    "Note: The `EleutherAI` is opensourced a dataset its named as `pile` but its not currently in huggingface instead of that one they refering another one dataset [bigcode/the-stack-v2](https://huggingface.co/datasets/bigcode/the-stack-v2). its 1.68TB data is there scrapped from different source of internet."
   ]
  },
  {
   "cell_type": "code",
   "execution_count": 5,
   "metadata": {},
   "outputs": [
    {
     "name": "stderr",
     "output_type": "stream",
     "text": [
      "/home/softsuave/.cache/huggingface/modules/datasets_modules/datasets/c4/584d57ebe81c209b6c7f31727066d2c4b4bba37cb7092cdd83083d5ec11207db/c4.py:53: FutureWarning: Dataset 'c4' is deprecated and will be deleted. Use 'allenai/c4' instead.\n",
      "  warnings.warn(\n"
     ]
    },
    {
     "data": {
      "text/plain": [
       "IterableDataset({\n",
       "    features: ['text', 'timestamp', 'url'],\n",
       "    n_shards: 1024\n",
       "})"
      ]
     },
     "execution_count": 5,
     "metadata": {},
     "output_type": "execute_result"
    }
   ],
   "source": [
    "#pretrained_dataset = load_dataset(\"EleutherAI/pile\", split=\"train\", streaming=True)\n",
    "\n",
    "pretrained_dataset = load_dataset(\"c4\", \"en\", split=\"train\", streaming=True)\n",
    "pretrained_dataset"
   ]
  },
  {
   "cell_type": "code",
   "execution_count": 9,
   "metadata": {},
   "outputs": [
    {
     "name": "stdout",
     "output_type": "stream",
     "text": [
      "Pretrained dataset:\n",
      "{'text': 'Beginners BBQ Class Taking Place in Missoula!\\nDo you want to get better at making delicious BBQ? You will have the opportunity, put this on your calendar now. Thursday, September 22nd join World Class BBQ Champion, Tony Balay from Lonestar Smoke Rangers. He will be teaching a beginner level class for everyone who wants to get better with their culinary skills.\\nHe will teach you everything you need to know to compete in a KCBS BBQ competition, including techniques, recipes, timelines, meat selection and trimming, plus smoker and fire information.\\nThe cost to be in the class is $35 per person, and for spectators it is free. Included in the cost will be either a t-shirt or apron and you will be tasting samples of each meat that is prepared.', 'timestamp': '2019-04-25T12:57:54Z', 'url': 'https://klyq.com/beginners-bbq-class-taking-place-in-missoula/'}\n",
      "{'text': 'Discussion in \\'Mac OS X Lion (10.7)\\' started by axboi87, Jan 20, 2012.\\nI\\'ve got a 500gb internal drive and a 240gb SSD.\\nWhen trying to restore using disk utility i\\'m given the error \"Not enough space on disk ____ to restore\"\\nBut I shouldn\\'t have to do that!!!\\nAny ideas or workarounds before resorting to the above?\\nUse Carbon Copy Cloner to copy one drive to the other. I\\'ve done this several times going from larger HDD to smaller SSD and I wound up with a bootable SSD drive. One step you have to remember not to skip is to use Disk Utility to partition the SSD as GUID partition scheme HFS+ before doing the clone. If it came Apple Partition Scheme, even if you let CCC do the clone, the resulting drive won\\'t be bootable. CCC usually works in \"file mode\" and it can easily copy a larger drive (that\\'s mostly empty) onto a smaller drive. If you tell CCC to clone a drive you did NOT boot from, it can work in block copy mode where the destination drive must be the same size or larger than the drive you are cloning from (if I recall).\\nI\\'ve actually done this somehow on Disk Utility several times (booting from a different drive (or even the dvd) so not running disk utility from the drive your cloning) and had it work just fine from larger to smaller bootable clone. Definitely format the drive cloning to first, as bootable Apple etc..\\nThanks for pointing this out. My only experience using DU to go larger to smaller was when I was trying to make a Lion install stick and I was unable to restore InstallESD.dmg to a 4 GB USB stick but of course the reason that wouldn\\'t fit is there was slightly more than 4 GB of data.', 'timestamp': '2019-04-21T10:07:13Z', 'url': 'https://forums.macrumors.com/threads/restore-from-larger-disk-to-smaller-disk.1311329/'}\n",
      "{'text': 'Foil plaid lycra and spandex shortall with metallic slinky insets. Attached metallic elastic belt with O-ring. Headband included. Great hip hop or jazz dance costume. Made in the USA.', 'timestamp': '2019-04-25T10:40:23Z', 'url': 'https://awishcometrue.com/Catalogs/Clearance/Tweens/V1960-Find-A-Way'}\n",
      "{'text': \"How many backlinks per day for new site?\\nDiscussion in 'Black Hat SEO' started by Omoplata, Dec 3, 2010.\\n1) for a newly created site, what's the max # backlinks per day I should do to be safe?\\n2) how long do I have to let my site age before I can start making more blinks?\\nI did about 6000 forum profiles every 24 hours for 10 days for one of my sites which had a brand new domain.\\nThere is three backlinks for every of these forum profile so thats 18 000 backlinks every 24 hours and nothing happened in terms of being penalized or sandboxed. This is now maybe 3 months ago and the site is ranking on first page for a lot of my targeted keywords.\\nbuild more you can in starting but do manual submission and not spammy type means manual + relevant to the post.. then after 1 month you can make a big blast..\\nWow, dude, you built 18k backlinks a day on a brand new site? How quickly did you rank up? What kind of competition/searches did those keywords have?\", 'timestamp': '2019-04-21T12:46:19Z', 'url': 'https://www.blackhatworld.com/seo/how-many-backlinks-per-day-for-new-site.258615/'}\n",
      "{'text': 'The Denver Board of Education opened the 2017-18 school year with an update on projects that include new construction, upgrades, heat mitigation and quality learning environments.\\nWe are excited that Denver students will be the beneficiaries of a four year, $572 million General Obligation Bond. Since the passage of the bond, our construction team has worked to schedule the projects over the four-year term of the bond.\\nDenver voters on Tuesday approved bond and mill funding measures for students in Denver Public Schools, agreeing to invest $572 million in bond funding to build and improve schools and $56.6 million in operating dollars to support proven initiatives, such as early literacy.\\nDenver voters say yes to bond and mill levy funding support for DPS students and schools. Click to learn more about the details of the voter-approved bond measure.\\nDenver voters on Nov. 8 approved bond and mill funding measures for DPS students and schools. Learn more about what’s included in the mill levy measure.', 'timestamp': '2019-04-20T14:33:21Z', 'url': 'http://bond.dpsk12.org/category/news/'}\n",
      "================================================\n",
      "The Denver Board of Education opened the 2017-18 school year with an\n",
      "update on projects that include new construction, upgrades, heat\n",
      "mitigation and quality learning environments. We are excited that\n",
      "Denver students will be the beneficiaries of a four year, $572 million\n",
      "General Obligation Bond. Since the passage of the bond, our\n",
      "construction team has worked to schedule the projects over the four-\n",
      "year term of the bond. Denver voters on Tuesday approved bond and mill\n",
      "funding measures for students in Denver Public Schools, agreeing to\n",
      "invest $572 million in bond funding to build and improve schools and\n",
      "$56.6 million in operating dollars to support proven initiatives, such\n",
      "as early literacy. Denver voters say yes to bond and mill levy funding\n",
      "support for DPS students and schools. Click to learn more about the\n",
      "details of the voter-approved bond measure. Denver voters on Nov. 8\n",
      "approved bond and mill funding measures for DPS students and schools.\n",
      "Learn more about what’s included in the mill levy measure.\n"
     ]
    }
   ],
   "source": [
    "n = 5\n",
    "print(\"Pretrained dataset:\")\n",
    "top_n = itertools.islice(pretrained_dataset, n)\n",
    "for i in top_n:\n",
    "  print(i)\n",
    "\n",
    "print(\"================================================\")\n",
    "print(textwrap.fill(i['text']))"
   ]
  },
  {
   "cell_type": "markdown",
   "metadata": {},
   "source": [
    "### Contrast with company finetuning dataset you will be using"
   ]
  },
  {
   "cell_type": "code",
   "execution_count": 11,
   "metadata": {},
   "outputs": [
    {
     "data": {
      "text/html": [
       "<div>\n",
       "<style scoped>\n",
       "    .dataframe tbody tr th:only-of-type {\n",
       "        vertical-align: middle;\n",
       "    }\n",
       "\n",
       "    .dataframe tbody tr th {\n",
       "        vertical-align: top;\n",
       "    }\n",
       "\n",
       "    .dataframe thead th {\n",
       "        text-align: right;\n",
       "    }\n",
       "</style>\n",
       "<table border=\"1\" class=\"dataframe\">\n",
       "  <thead>\n",
       "    <tr style=\"text-align: right;\">\n",
       "      <th></th>\n",
       "      <th>question</th>\n",
       "      <th>answer</th>\n",
       "    </tr>\n",
       "  </thead>\n",
       "  <tbody>\n",
       "    <tr>\n",
       "      <th>0</th>\n",
       "      <td>What are the different types of documents avai...</td>\n",
       "      <td>Lamini has documentation on Getting Started, A...</td>\n",
       "    </tr>\n",
       "    <tr>\n",
       "      <th>1</th>\n",
       "      <td>What is the recommended way to set up and conf...</td>\n",
       "      <td>Lamini can be downloaded as a python package a...</td>\n",
       "    </tr>\n",
       "    <tr>\n",
       "      <th>2</th>\n",
       "      <td>How can I find the specific documentation I ne...</td>\n",
       "      <td>You can ask this model about documentation, wh...</td>\n",
       "    </tr>\n",
       "    <tr>\n",
       "      <th>3</th>\n",
       "      <td>Does the documentation include explanations of...</td>\n",
       "      <td>Our documentation provides both real-world and...</td>\n",
       "    </tr>\n",
       "    <tr>\n",
       "      <th>4</th>\n",
       "      <td>Does the documentation provide information abo...</td>\n",
       "      <td>External dependencies and libraries are all av...</td>\n",
       "    </tr>\n",
       "    <tr>\n",
       "      <th>...</th>\n",
       "      <td>...</td>\n",
       "      <td>...</td>\n",
       "    </tr>\n",
       "    <tr>\n",
       "      <th>1395</th>\n",
       "      <td>What is Lamini and what is its collaboration w...</td>\n",
       "      <td>Lamini is a library that simplifies the proces...</td>\n",
       "    </tr>\n",
       "    <tr>\n",
       "      <th>1396</th>\n",
       "      <td>How does Lamini simplify the process of access...</td>\n",
       "      <td>Lamini simplifies data access in Databricks by...</td>\n",
       "    </tr>\n",
       "    <tr>\n",
       "      <th>1397</th>\n",
       "      <td>What are some of the key features provided by ...</td>\n",
       "      <td>Lamini automatically manages the infrastructur...</td>\n",
       "    </tr>\n",
       "    <tr>\n",
       "      <th>1398</th>\n",
       "      <td>How does Lamini ensure data privacy during the...</td>\n",
       "      <td>During the training process, Lamini ensures da...</td>\n",
       "    </tr>\n",
       "    <tr>\n",
       "      <th>1399</th>\n",
       "      <td>Can you provide an example use case where Lami...</td>\n",
       "      <td>An example use case where Lamini outperforms C...</td>\n",
       "    </tr>\n",
       "  </tbody>\n",
       "</table>\n",
       "<p>1400 rows × 2 columns</p>\n",
       "</div>"
      ],
      "text/plain": [
       "                                               question  \\\n",
       "0     What are the different types of documents avai...   \n",
       "1     What is the recommended way to set up and conf...   \n",
       "2     How can I find the specific documentation I ne...   \n",
       "3     Does the documentation include explanations of...   \n",
       "4     Does the documentation provide information abo...   \n",
       "...                                                 ...   \n",
       "1395  What is Lamini and what is its collaboration w...   \n",
       "1396  How does Lamini simplify the process of access...   \n",
       "1397  What are some of the key features provided by ...   \n",
       "1398  How does Lamini ensure data privacy during the...   \n",
       "1399  Can you provide an example use case where Lami...   \n",
       "\n",
       "                                                 answer  \n",
       "0     Lamini has documentation on Getting Started, A...  \n",
       "1     Lamini can be downloaded as a python package a...  \n",
       "2     You can ask this model about documentation, wh...  \n",
       "3     Our documentation provides both real-world and...  \n",
       "4     External dependencies and libraries are all av...  \n",
       "...                                                 ...  \n",
       "1395  Lamini is a library that simplifies the proces...  \n",
       "1396  Lamini simplifies data access in Databricks by...  \n",
       "1397  Lamini automatically manages the infrastructur...  \n",
       "1398  During the training process, Lamini ensures da...  \n",
       "1399  An example use case where Lamini outperforms C...  \n",
       "\n",
       "[1400 rows x 2 columns]"
      ]
     },
     "execution_count": 11,
     "metadata": {},
     "output_type": "execute_result"
    }
   ],
   "source": [
    "filename = \"data/lamini_docs.csv\"\n",
    "instruction_dataset_df = pd.read_csv(filename)\n",
    "instruction_dataset_df"
   ]
  },
  {
   "cell_type": "markdown",
   "metadata": {},
   "source": [
    "### Various ways of formatting your data"
   ]
  },
  {
   "cell_type": "code",
   "execution_count": 13,
   "metadata": {},
   "outputs": [
    {
     "name": "stdout",
     "output_type": "stream",
     "text": [
      "What are the different types of documents available in the repository\n",
      "(e.g., installation guide, API documentation, developer's\n",
      "guide)?Lamini has documentation on Getting Started, Authentication,\n",
      "Question Answer Model, Python Library, Batching, Error Handling,\n",
      "Advanced topics, and class documentation on LLM Engine available at\n",
      "https://lamini-ai.github.io/.\n"
     ]
    }
   ],
   "source": [
    "examples = instruction_dataset_df.to_dict()\n",
    "text = examples[\"question\"][0] + examples[\"answer\"][0]\n",
    "print(textwrap.fill(text))"
   ]
  },
  {
   "cell_type": "markdown",
   "metadata": {},
   "source": [
    "The below format is a example if a data set comes in different lable format"
   ]
  },
  {
   "cell_type": "code",
   "execution_count": 16,
   "metadata": {},
   "outputs": [
    {
     "name": "stdout",
     "output_type": "stream",
     "text": [
      "What are the different types of documents available in the repository\n",
      "(e.g., installation guide, API documentation, developer's\n",
      "guide)?Lamini has documentation on Getting Started, Authentication,\n",
      "Question Answer Model, Python Library, Batching, Error Handling,\n",
      "Advanced topics, and class documentation on LLM Engine available at\n",
      "https://lamini-ai.github.io/.\n"
     ]
    }
   ],
   "source": [
    "if \"question\" in examples and \"answer\" in examples:\n",
    "  text = examples[\"question\"][0] + examples[\"answer\"][0]\n",
    "elif \"instruction\" in examples and \"response\" in examples:\n",
    "  text = examples[\"instruction\"][0] + examples[\"response\"][0]\n",
    "elif \"input\" in examples and \"output\" in examples:\n",
    "  text = examples[\"input\"][0] + examples[\"output\"][0]\n",
    "else:\n",
    "  text = examples[\"text\"][0]\n",
    "\n",
    "print(textwrap.fill(text))"
   ]
  },
  {
   "cell_type": "code",
   "execution_count": 19,
   "metadata": {},
   "outputs": [
    {
     "name": "stdout",
     "output_type": "stream",
     "text": [
      "### Question:\n",
      "{question}\n",
      "\n",
      "### Answer:\n",
      "{answer}\n"
     ]
    }
   ],
   "source": [
    "prompt_template_qa = \"\"\"### Question:\n",
    "{question}\n",
    "\n",
    "### Answer:\n",
    "{answer}\"\"\"\n",
    "print(prompt_template_qa)"
   ]
  },
  {
   "cell_type": "code",
   "execution_count": 24,
   "metadata": {},
   "outputs": [
    {
     "name": "stdout",
     "output_type": "stream",
     "text": [
      "### Question:\n",
      "What are the different types of documents available in the repository (e.g., installation guide, API documentation, developer's guide)?\n",
      "\n",
      "### Answer:\n",
      "Lamini has documentation on Getting Started, Authentication, Question Answer Model, Python Library, Batching, Error Handling, Advanced topics, and class documentation on LLM Engine available at https://lamini-ai.github.io/.\n"
     ]
    }
   ],
   "source": [
    "question = examples[\"question\"][0]\n",
    "answer = examples[\"answer\"][0]\n",
    "\n",
    "text_with_prompt_template = prompt_template_qa.format(question=question, answer=answer)\n",
    "print(text_with_prompt_template)"
   ]
  },
  {
   "cell_type": "code",
   "execution_count": 27,
   "metadata": {},
   "outputs": [
    {
     "name": "stdout",
     "output_type": "stream",
     "text": [
      "### Question:\n",
      "{question}\n",
      "\n",
      "### Answer:\n"
     ]
    }
   ],
   "source": [
    "prompt_template_q = \"\"\"### Question:\n",
    "{question}\n",
    "\n",
    "### Answer:\"\"\"\n",
    "\n",
    "print(prompt_template_q)"
   ]
  },
  {
   "cell_type": "code",
   "execution_count": 30,
   "metadata": {},
   "outputs": [],
   "source": [
    "num_examples = len(examples[\"question\"])\n",
    "finetuning_dataset_text_only = []\n",
    "finetuning_dataset_question_answer = []\n",
    "for i in range(num_examples):\n",
    "  question = examples[\"question\"][i]\n",
    "  answer = examples[\"answer\"][i]\n",
    "\n",
    "  text_with_prompt_template_qa = prompt_template_qa.format(question=question, answer=answer)\n",
    "  finetuning_dataset_text_only.append({\"text\": text_with_prompt_template_qa})\n",
    "\n",
    "  text_with_prompt_template_q = prompt_template_q.format(question=question)\n",
    "  finetuning_dataset_question_answer.append({\"question\": text_with_prompt_template_q, \"answer\": answer})"
   ]
  },
  {
   "cell_type": "code",
   "execution_count": 31,
   "metadata": {},
   "outputs": [
    {
     "name": "stdout",
     "output_type": "stream",
     "text": [
      "{'text': '### Question:\\n'\n",
      "         'What are the different types of documents available in the '\n",
      "         \"repository (e.g., installation guide, API documentation, developer's \"\n",
      "         'guide)?\\n'\n",
      "         '\\n'\n",
      "         '### Answer:\\n'\n",
      "         'Lamini has documentation on Getting Started, Authentication, '\n",
      "         'Question Answer Model, Python Library, Batching, Error Handling, '\n",
      "         'Advanced topics, and class documentation on LLM Engine available at '\n",
      "         'https://lamini-ai.github.io/.'}\n"
     ]
    }
   ],
   "source": [
    "pprint(finetuning_dataset_text_only[0])"
   ]
  },
  {
   "cell_type": "code",
   "execution_count": 32,
   "metadata": {},
   "outputs": [
    {
     "name": "stdout",
     "output_type": "stream",
     "text": [
      "{'answer': 'Lamini has documentation on Getting Started, Authentication, '\n",
      "           'Question Answer Model, Python Library, Batching, Error Handling, '\n",
      "           'Advanced topics, and class documentation on LLM Engine available '\n",
      "           'at https://lamini-ai.github.io/.',\n",
      " 'question': '### Question:\\n'\n",
      "             'What are the different types of documents available in the '\n",
      "             'repository (e.g., installation guide, API documentation, '\n",
      "             \"developer's guide)?\\n\"\n",
      "             '\\n'\n",
      "             '### Answer:'}\n"
     ]
    }
   ],
   "source": [
    "pprint(finetuning_dataset_question_answer[0])"
   ]
  },
  {
   "cell_type": "markdown",
   "metadata": {},
   "source": [
    "### Common ways of storing your data"
   ]
  },
  {
   "cell_type": "code",
   "execution_count": 35,
   "metadata": {},
   "outputs": [],
   "source": [
    "with jsonlines.open(f'data/lamini_docs_processed.jsonl', 'w') as writer:\n",
    "    writer.write_all(finetuning_dataset_question_answer)"
   ]
  },
  {
   "cell_type": "code",
   "execution_count": 34,
   "metadata": {},
   "outputs": [
    {
     "name": "stderr",
     "output_type": "stream",
     "text": [
      "Downloading readme: 100%|██████████| 577/577 [00:00<00:00, 6.69MB/s]\n",
      "Downloading data: 100%|██████████| 615k/615k [00:04<00:00, 139kB/s]\n",
      "Downloading data: 100%|██████████| 83.7k/83.7k [00:01<00:00, 51.0kB/s]\n",
      "Generating train split: 100%|██████████| 1260/1260 [00:00<00:00, 280020.30 examples/s]\n",
      "Generating test split: 100%|██████████| 140/140 [00:00<00:00, 108439.99 examples/s]"
     ]
    },
    {
     "name": "stdout",
     "output_type": "stream",
     "text": [
      "DatasetDict({\n",
      "    train: Dataset({\n",
      "        features: ['question', 'answer', 'input_ids', 'attention_mask', 'labels'],\n",
      "        num_rows: 1260\n",
      "    })\n",
      "    test: Dataset({\n",
      "        features: ['question', 'answer', 'input_ids', 'attention_mask', 'labels'],\n",
      "        num_rows: 140\n",
      "    })\n",
      "})\n"
     ]
    },
    {
     "name": "stderr",
     "output_type": "stream",
     "text": [
      "\n"
     ]
    }
   ],
   "source": [
    "finetuning_dataset_name = \"lamini/lamini_docs\"\n",
    "finetuning_dataset = load_dataset(finetuning_dataset_name)\n",
    "print(finetuning_dataset)"
   ]
  },
  {
   "cell_type": "markdown",
   "metadata": {},
   "source": [
    "# Instruction-tuning"
   ]
  },
  {
   "cell_type": "markdown",
   "metadata": {},
   "source": [
    "### Load instruction tuned dataset"
   ]
  },
  {
   "cell_type": "code",
   "execution_count": 40,
   "metadata": {},
   "outputs": [
    {
     "data": {
      "text/plain": [
       "IterableDataset({\n",
       "    features: ['instruction', 'input', 'output', 'text'],\n",
       "    n_shards: 1\n",
       "})"
      ]
     },
     "execution_count": 40,
     "metadata": {},
     "output_type": "execute_result"
    }
   ],
   "source": [
    "instruction_tuned_dataset = load_dataset(\"tatsu-lab/alpaca\", split=\"train\", streaming=True)\n",
    "instruction_tuned_dataset"
   ]
  },
  {
   "cell_type": "code",
   "execution_count": 41,
   "metadata": {},
   "outputs": [
    {
     "name": "stdout",
     "output_type": "stream",
     "text": [
      "Instruction-tuned dataset:\n",
      "{'instruction': 'Give three tips for staying healthy.', 'input': '', 'output': '1.Eat a balanced diet and make sure to include plenty of fruits and vegetables. \\n2. Exercise regularly to keep your body active and strong. \\n3. Get enough sleep and maintain a consistent sleep schedule.', 'text': 'Below is an instruction that describes a task. Write a response that appropriately completes the request.\\n\\n### Instruction:\\nGive three tips for staying healthy.\\n\\n### Response:\\n1.Eat a balanced diet and make sure to include plenty of fruits and vegetables. \\n2. Exercise regularly to keep your body active and strong. \\n3. Get enough sleep and maintain a consistent sleep schedule.'}\n",
      "{'instruction': 'What are the three primary colors?', 'input': '', 'output': 'The three primary colors are red, blue, and yellow.', 'text': 'Below is an instruction that describes a task. Write a response that appropriately completes the request.\\n\\n### Instruction:\\nWhat are the three primary colors?\\n\\n### Response:\\nThe three primary colors are red, blue, and yellow.'}\n",
      "{'instruction': 'Describe the structure of an atom.', 'input': '', 'output': 'An atom is made up of a nucleus, which contains protons and neutrons, surrounded by electrons that travel in orbits around the nucleus. The protons and neutrons have a positive charge, while the electrons have a negative charge, resulting in an overall neutral atom. The number of each particle determines the atomic number and the type of atom.', 'text': 'Below is an instruction that describes a task. Write a response that appropriately completes the request.\\n\\n### Instruction:\\nDescribe the structure of an atom.\\n\\n### Response:\\nAn atom is made up of a nucleus, which contains protons and neutrons, surrounded by electrons that travel in orbits around the nucleus. The protons and neutrons have a positive charge, while the electrons have a negative charge, resulting in an overall neutral atom. The number of each particle determines the atomic number and the type of atom.'}\n",
      "{'instruction': 'How can we reduce air pollution?', 'input': '', 'output': 'There are a number of ways to reduce air pollution, such as shifting to renewable energy sources, encouraging the use of public transportation, prohibiting the burning of fossil fuels, implementing policies to reduce emissions from industrial sources, and implementing vehicle emissions standards. Additionally, individuals can do their part to reduce air pollution by reducing car use, avoiding burning materials such as wood, and changing to energy efficient appliances.', 'text': 'Below is an instruction that describes a task. Write a response that appropriately completes the request.\\n\\n### Instruction:\\nHow can we reduce air pollution?\\n\\n### Response:\\nThere are a number of ways to reduce air pollution, such as shifting to renewable energy sources, encouraging the use of public transportation, prohibiting the burning of fossil fuels, implementing policies to reduce emissions from industrial sources, and implementing vehicle emissions standards. Additionally, individuals can do their part to reduce air pollution by reducing car use, avoiding burning materials such as wood, and changing to energy efficient appliances.'}\n",
      "{'instruction': 'Describe a time when you had to make a difficult decision.', 'input': '', 'output': 'I had to make a difficult decision when I was working as a project manager at a construction company. I was in charge of a project that needed to be completed by a certain date in order to meet the client’s expectations. However, due to unexpected delays, we were not able to meet the deadline and so I had to make a difficult decision. I decided to extend the deadline, but I had to stretch the team’s resources even further and increase the budget. Although it was a risky decision, I ultimately decided to go ahead with it to ensure that the project was completed on time and that the client’s expectations were met. The project was eventually successfully completed and this was seen as a testament to my leadership and decision-making abilities.', 'text': 'Below is an instruction that describes a task. Write a response that appropriately completes the request.\\n\\n### Instruction:\\nDescribe a time when you had to make a difficult decision.\\n\\n### Response:\\nI had to make a difficult decision when I was working as a project manager at a construction company. I was in charge of a project that needed to be completed by a certain date in order to meet the client’s expectations. However, due to unexpected delays, we were not able to meet the deadline and so I had to make a difficult decision. I decided to extend the deadline, but I had to stretch the team’s resources even further and increase the budget. Although it was a risky decision, I ultimately decided to go ahead with it to ensure that the project was completed on time and that the client’s expectations were met. The project was eventually successfully completed and this was seen as a testament to my leadership and decision-making abilities.'}\n"
     ]
    }
   ],
   "source": [
    "m = 5\n",
    "print(\"Instruction-tuned dataset:\")\n",
    "top_m = list(itertools.islice(instruction_tuned_dataset, m))\n",
    "for j in top_m:\n",
    "  print(j)"
   ]
  },
  {
   "cell_type": "markdown",
   "metadata": {},
   "source": [
    "### Two prompt templates\n",
    "\n",
    "\n",
    "The prompt structure is alpaca prompt structure. this the format used in the `unsloth` finetuning process also"
   ]
  },
  {
   "cell_type": "code",
   "execution_count": 44,
   "metadata": {},
   "outputs": [],
   "source": [
    "prompt_template_with_input = \"\"\"Below is an instruction that describes a task, paired with an input that provides further context. Write a response that appropriately completes the request.\n",
    "\n",
    "### Instruction:\n",
    "{instruction}\n",
    "\n",
    "### Input:\n",
    "{input}\n",
    "\n",
    "### Response:\"\"\"\n",
    "\n",
    "prompt_template_without_input = \"\"\"Below is an instruction that describes a task. Write a response that appropriately completes the request.\n",
    "\n",
    "### Instruction:\n",
    "{instruction}\n",
    "\n",
    "### Response:\"\"\""
   ]
  },
  {
   "cell_type": "markdown",
   "metadata": {},
   "source": [
    "### Hydrate prompts (add data to prompts)"
   ]
  },
  {
   "cell_type": "code",
   "execution_count": 47,
   "metadata": {},
   "outputs": [
    {
     "name": "stdout",
     "output_type": "stream",
     "text": [
      "{'input': 'Below is an instruction that describes a task. Write a response '\n",
      "          'that appropriately completes the request.\\n'\n",
      "          '\\n'\n",
      "          '### Instruction:\\n'\n",
      "          'Give three tips for staying healthy.\\n'\n",
      "          '\\n'\n",
      "          '### Response:',\n",
      " 'output': '1.Eat a balanced diet and make sure to include plenty of fruits '\n",
      "           'and vegetables. \\n'\n",
      "           '2. Exercise regularly to keep your body active and strong. \\n'\n",
      "           '3. Get enough sleep and maintain a consistent sleep schedule.'}\n"
     ]
    }
   ],
   "source": [
    "processed_data = []\n",
    "for j in top_m:\n",
    "  if not j[\"input\"]:\n",
    "    processed_prompt = prompt_template_without_input.format(instruction=j[\"instruction\"])\n",
    "  else:\n",
    "    processed_prompt = prompt_template_with_input.format(instruction=j[\"instruction\"], input=j[\"input\"])\n",
    "\n",
    "  processed_data.append({\"input\": processed_prompt, \"output\": j[\"output\"]})\n",
    "\n",
    "pprint(processed_data[0])"
   ]
  },
  {
   "cell_type": "markdown",
   "metadata": {},
   "source": [
    "### Save data to jsonl"
   ]
  },
  {
   "cell_type": "code",
   "execution_count": 48,
   "metadata": {},
   "outputs": [],
   "source": [
    "with jsonlines.open(f'data/alpaca_processed.jsonl', 'w') as writer:\n",
    "    writer.write_all(processed_data)"
   ]
  },
  {
   "cell_type": "markdown",
   "metadata": {},
   "source": [
    "### Compare non-instruction-tuned vs. instruction-tuned models"
   ]
  },
  {
   "cell_type": "code",
   "execution_count": 49,
   "metadata": {},
   "outputs": [
    {
     "name": "stderr",
     "output_type": "stream",
     "text": [
      "Downloading readme: 100%|██████████| 388/388 [00:00<00:00, 4.06MB/s]\n",
      "Downloading data: 100%|██████████| 12.7M/12.7M [00:02<00:00, 6.17MB/s]\n",
      "Generating train split: 100%|██████████| 52002/52002 [00:00<00:00, 1071641.16 examples/s]"
     ]
    },
    {
     "name": "stdout",
     "output_type": "stream",
     "text": [
      "DatasetDict({\n",
      "    train: Dataset({\n",
      "        features: ['input', 'output'],\n",
      "        num_rows: 52002\n",
      "    })\n",
      "})\n"
     ]
    },
    {
     "name": "stderr",
     "output_type": "stream",
     "text": [
      "\n"
     ]
    }
   ],
   "source": [
    "dataset_path_hf = \"lamini/alpaca\"\n",
    "dataset_hf = load_dataset(dataset_path_hf)\n",
    "print(dataset_hf)"
   ]
  },
  {
   "cell_type": "code",
   "execution_count": 52,
   "metadata": {},
   "outputs": [
    {
     "name": "stdout",
     "output_type": "stream",
     "text": [
      "Not instruction-tuned output (Llama 2 Base):\n",
      ". Tell me how to train my dog to sit. I have a 10 month old puppy and\n",
      "I want to train him to sit. I have tried the treat method and the\n",
      "verbal command method. I have tried both and he just doesn't seem to\n",
      "get it. I have tried to get him to sit by putting my hand on his back\n",
      "and pushing him down. I have tried to get him to sit by putting my\n",
      "hand on his back and pushing him down. I have tried to get him to sit\n",
      "by putting my hand on his back and pushing him down. I have tried to\n",
      "get him to sit by putting my hand on his back and pushing him down. I\n",
      "have tried to get him to sit by putting my hand on his back and\n",
      "pushing him down. I have tried to get him to sit by putting my hand on\n",
      "his back and pushing him down. I have tried to get him to sit by\n",
      "putting my hand on his back and pushing him down. I have tried to get\n",
      "him to sit by putting my hand on his back and pushing him down. I have\n",
      "tried to get him to sit by putting my hand on his back and pushing him\n",
      "down. I have tried to get him to sit by putting my hand on his back\n",
      "and pushing him down. I have tried to get him to sit by putting my\n",
      "hand on his back and pushing him down. I have tried to get him to sit\n",
      "by putting my hand on his back and pushing him down. I have tried to\n",
      "get him to sit by putting my hand on his back and pushing him down. I\n",
      "have tried to get him to sit by putting my hand on his back and\n",
      "pushing him down. I have tried to get him to sit by putting my hand on\n",
      "his back and pushing him down. I have tried to get him to sit by\n",
      "putting my hand on his back and pushing him down. I have tried to get\n",
      "him to sit by putting my hand on his back and pushing him down. I have\n",
      "tried to get him to sit by putting my hand on his back and pushing him\n",
      "down. I have tried to get him to sit by putting my hand on his back\n",
      "and pushing him down. I have tried to get him to sit by putting my\n",
      "hand on his back and pushing him down. I have tried to get him to sit\n",
      "by putting my hand on his back and pushing him down. I have tried to\n",
      "get him to sit by putting my hand on his back and pushing him down. I\n",
      "have tried to get him to sit by putting my hand on his back and\n",
      "pushing him down. I have tried to get him to sit by putting my hand on\n",
      "his back and pushing him down. I have tried to get him to sit by\n",
      "putting my hand on his back and pushing him down. I have tried to get\n",
      "him to sit by putting my hand on his back and pushing him down. I have\n",
      "tried to get him to sit by putting my hand on his back and pushing him\n",
      "down. I have tried to get him to sit by putting my hand on his back\n",
      "and pushing him down. I have tried to get him to sit by putting my\n",
      "hand on his back and pushing him down. I have tried to get him to sit\n",
      "by putting my hand on his back and pushing him down. I have tried to\n",
      "get him to sit by putting my hand on his back and pushing him down. I\n",
      "have tried to get him to sit by putting my hand on his back and\n",
      "pushing him down. I have tried to get him to sit by putting my hand on\n",
      "his back and pushing him down. I have tried to get him to sit by\n",
      "putting my hand on his back and pushing him down. I have tried to get\n",
      "him to sit by putting my hand on his back and pushing him down. I have\n",
      "tried to get him to sit by putting my hand on his back and pushing him\n",
      "down. I have tried to get him to sit by putting my hand on his back\n",
      "and pushing him down. I have tried to get him to sit by putting my\n",
      "hand on his back and pushing him down. I have tried to get him to sit\n",
      "by putting my hand on his back and pushing him down. I have tried to\n",
      "get him to sit by putting my hand on his back and pushing him down. I\n",
      "have tried to get him to sit by putting my hand on his back and\n",
      "pushing him down. I have tried to get him to sit by putting my hand on\n",
      "his back and pushing him down. I have tried to get him to sit by\n",
      "putting my hand on his back and pushing him down. I have tried to get\n",
      "him to sit by putting my hand on his back and pushing him down. I have\n",
      "tried to get him to sit by putting my hand on his back and pushing him\n",
      "down. I have tried to get him to sit by putting my hand on his back\n",
      "and pushing him down. I have tried to get him to sit by putting my\n",
      "hand on his back and pushing him down. I have tried to get him to sit\n",
      "by putting my hand on his back and pushing him down. I have tried to\n",
      "get him to sit by putting my hand on his back and pushing him down. I\n",
      "have tried to get him to sit by putting my hand on his back and\n",
      "pushing him down. I have tried to get him to sit by putting my hand on\n",
      "his back and pushing him down. I have tried to get him to sit by\n",
      "putting my hand on his back and pushing him down. I have tried to get\n",
      "him to sit by putting my hand on his back and pushing him down. I have\n",
      "tried to get him to sit by putting my hand on his back and pushing him\n",
      "down. I have tried to get him to sit by putting my hand on his back\n",
      "and pushing him down. I have tried to get him to sit by putting my\n",
      "hand on his back and pushing him down. I have tried to get him to sit\n",
      "by putting my hand on his back and pushing him down. I have tried to\n",
      "get him to sit by putting my hand on his back and pushing him down. I\n",
      "have tried to get him to sit by putting my hand on his back and\n",
      "pushing him down. I have tried to get him to sit by putting my hand on\n",
      "his back and pushing him down. I have tried to get him to sit by\n",
      "putting my hand on his back and pushing him down. I have tried to get\n",
      "him to sit by putting my hand on his back and pushing him down. I have\n",
      "tried to get him to sit by putting my hand on his back and pushing him\n",
      "down. I have tried to get him to sit by putting my hand on his back\n",
      "and pushing him down. I have tried to get him to sit by putting my\n",
      "hand on his back and pushing him down. I have tried to get him to sit\n",
      "by putting my hand on his back and pushing him down. I have tried to\n",
      "get him to sit by putting my hand on his back and pushing him down. I\n",
      "have tried to get him to sit by putting my hand on his back and\n",
      "pushing him down. I have tried to get him to sit by putting my hand on\n",
      "his back and pushing him down. I have tried to get him to sit by\n",
      "putting my hand on his back and pushing him down. I have tried to get\n",
      "him to sit by putting my hand on his back and pushing him down. I have\n",
      "tried to get him to sit by putting my hand on his back and pushing him\n",
      "down. I have tried to get him to sit by putting my hand on his back\n",
      "and pushing him down. I have tried to get him to sit by putting my\n",
      "hand on his back and pushing him down. I have tried to get him to sit\n",
      "by putting my hand on his back and pushing him down. I have tried to\n",
      "get him to sit by putting my hand on his back and pushing him down. I\n",
      "have tried to get him to sit by putting my hand on his back and\n",
      "pushing him down. I have tried to get him to sit by putting my hand on\n",
      "his back and pushing him down. I have tried to get him to sit by\n",
      "putting my hand on his back and pushing him down. I have tried to get\n",
      "him to sit by putting my hand on his back and pushing him down. I have\n",
      "tried to get him to sit by putting my hand on his back and pushing him\n"
     ]
    }
   ],
   "source": [
    "non_instruct_model = BasicModelRunner(\"meta-llama/Llama-2-7b-hf\")\n",
    "non_instruct_output = non_instruct_model(\"Tell me how to train my dog to sit\")\n",
    "print(\"Not instruction-tuned output (Llama 2 Base):\")\n",
    "print(textwrap.fill(non_instruct_output))"
   ]
  },
  {
   "cell_type": "markdown",
   "metadata": {},
   "source": [
    "The above output is not good sentence are repeated."
   ]
  },
  {
   "cell_type": "code",
   "execution_count": 53,
   "metadata": {},
   "outputs": [
    {
     "name": "stdout",
     "output_type": "stream",
     "text": [
      "Instruction-tuned output (Llama 2):  on command.\n",
      "Training a dog to sit on command is a basic obedience command that can be achieved with patience, consistency, and positive reinforcement. Here's a step-by-step guide on how to train your dog to sit on command:\n",
      "\n",
      "1. Choose a quiet and distraction-free area: Find a quiet area with minimal distractions where your dog can focus on you.\n",
      "2. Have treats ready: Choose your dog's favorite treats and have them ready to use as rewards.\n",
      "3. Stand in front of your dog: Stand in front of your dog and hold a treat close to their nose.\n",
      "4. Move the treat up and back: Slowly move the treat up and back, towards your dog's tail, while saying \"sit\" in a calm and clear voice.\n",
      "5. Dog will sit: As you move the treat, your dog will naturally sit down to follow the treat. The moment their bottom touches the ground, say \"good sit\" and give them the treat.\n",
      "6. Repeat the process: Repeat steps 3-5 several times, so your dog starts to associate the command \"sit\" with the action of sitting down.\n",
      "7. Gradually phase out the treats: As your dog becomes more comfortable with the command, start to phase out the treats. Instead, use praise and affection as rewards.\n",
      "8. Practice, practice, practice: Practice the \"sit\" command in different locations, with different distractions, and at different times of the day. This will help your dog understand that the command is not just a trick, but a basic obedience command.\n",
      "9. Be consistent: Consistency is key when training a dog. Make sure everyone in the household is using the same command and reward system.\n",
      "10. Be patient: Training a dog takes time and patience. Don't get frustrated if your dog doesn't pick up the command immediately. Keep practicing and eventually, your dog will learn.\n",
      "\n",
      "Remember, training a dog is a journey, and it's important to be patient, consistent, and positive. With time and practice, your dog will learn to sit on command and other basic obedience commands.\n"
     ]
    }
   ],
   "source": [
    "instruct_model = BasicModelRunner(\"meta-llama/Llama-2-7b-chat-hf\")\n",
    "instruct_output = instruct_model(\"Tell me how to train my dog to sit\")\n",
    "print(\"Instruction-tuned output (Llama 2): \", instruct_output)"
   ]
  },
  {
   "cell_type": "markdown",
   "metadata": {},
   "source": [
    "### Try smaller models\n",
    "\n",
    "To run these command we need GPU or More CPU\n",
    "```python\n",
    "tokenizer = AutoTokenizer.from_pretrained(\"EleutherAI/pythia-70m\")\n",
    "model = AutoModelForCausalLM.from_pretrained(\"EleutherAI/pythia-70m\")\n",
    "```\n",
    "\n",
    "**Inference**\n",
    "\n",
    "```python\n",
    "def inference(text, model, tokenizer, max_input_tokens=1000, max_output_tokens=100):\n",
    "  # Tokenize\n",
    "  input_ids = tokenizer.encode(\n",
    "          text,\n",
    "          return_tensors=\"pt\",\n",
    "          truncation=True,\n",
    "          max_length=max_input_tokens\n",
    "  )\n",
    "\n",
    "  # Generate\n",
    "  device = model.device\n",
    "  generated_tokens_with_prompt = model.generate(\n",
    "    input_ids=input_ids.to(device),\n",
    "    max_length=max_output_tokens\n",
    "  )\n",
    "\n",
    "  # Decode\n",
    "  generated_text_with_prompt = tokenizer.batch_decode(generated_tokens_with_prompt, skip_special_tokens=True)\n",
    "\n",
    "  # Strip the prompt\n",
    "  generated_text_answer = generated_text_with_prompt[0][len(text):]\n",
    "\n",
    "  return generated_text_answer\n",
    "```\n",
    "\n"
   ]
  },
  {
   "cell_type": "code",
   "execution_count": 54,
   "metadata": {},
   "outputs": [
    {
     "name": "stderr",
     "output_type": "stream",
     "text": [
      "Special tokens have been added in the vocabulary, make sure the associated word embeddings are fine-tuned or trained.\n"
     ]
    },
    {
     "ename": "ImportError",
     "evalue": "\nAutoModelForCausalLM requires the PyTorch library but it was not found in your environment. Checkout the instructions on the\ninstallation page: https://pytorch.org/get-started/locally/ and follow the ones that match your environment.\nPlease note that you may need to restart your runtime after installation.\n",
     "output_type": "error",
     "traceback": [
      "\u001b[0;31m---------------------------------------------------------------------------\u001b[0m",
      "\u001b[0;31mImportError\u001b[0m                               Traceback (most recent call last)",
      "Cell \u001b[0;32mIn[54], line 2\u001b[0m\n\u001b[1;32m      1\u001b[0m tokenizer \u001b[38;5;241m=\u001b[39m AutoTokenizer\u001b[38;5;241m.\u001b[39mfrom_pretrained(\u001b[38;5;124m\"\u001b[39m\u001b[38;5;124mEleutherAI/pythia-70m\u001b[39m\u001b[38;5;124m\"\u001b[39m)\n\u001b[0;32m----> 2\u001b[0m model \u001b[38;5;241m=\u001b[39m \u001b[43mAutoModelForCausalLM\u001b[49m\u001b[38;5;241;43m.\u001b[39;49m\u001b[43mfrom_pretrained\u001b[49m(\u001b[38;5;124m\"\u001b[39m\u001b[38;5;124mEleutherAI/pythia-70m\u001b[39m\u001b[38;5;124m\"\u001b[39m)\n",
      "File \u001b[0;32m~/01ai_ramesh/ramesh-lamini/.venv/lib/python3.10/site-packages/transformers/utils/import_utils.py:1500\u001b[0m, in \u001b[0;36mDummyObject.__getattribute__\u001b[0;34m(cls, key)\u001b[0m\n\u001b[1;32m   1498\u001b[0m \u001b[38;5;28;01mif\u001b[39;00m key\u001b[38;5;241m.\u001b[39mstartswith(\u001b[38;5;124m\"\u001b[39m\u001b[38;5;124m_\u001b[39m\u001b[38;5;124m\"\u001b[39m) \u001b[38;5;129;01mand\u001b[39;00m key \u001b[38;5;241m!=\u001b[39m \u001b[38;5;124m\"\u001b[39m\u001b[38;5;124m_from_config\u001b[39m\u001b[38;5;124m\"\u001b[39m:\n\u001b[1;32m   1499\u001b[0m     \u001b[38;5;28;01mreturn\u001b[39;00m \u001b[38;5;28msuper\u001b[39m()\u001b[38;5;241m.\u001b[39m\u001b[38;5;21m__getattribute__\u001b[39m(key)\n\u001b[0;32m-> 1500\u001b[0m \u001b[43mrequires_backends\u001b[49m\u001b[43m(\u001b[49m\u001b[38;5;28;43mcls\u001b[39;49m\u001b[43m,\u001b[49m\u001b[43m \u001b[49m\u001b[38;5;28;43mcls\u001b[39;49m\u001b[38;5;241;43m.\u001b[39;49m\u001b[43m_backends\u001b[49m\u001b[43m)\u001b[49m\n",
      "File \u001b[0;32m~/01ai_ramesh/ramesh-lamini/.venv/lib/python3.10/site-packages/transformers/utils/import_utils.py:1488\u001b[0m, in \u001b[0;36mrequires_backends\u001b[0;34m(obj, backends)\u001b[0m\n\u001b[1;32m   1486\u001b[0m failed \u001b[38;5;241m=\u001b[39m [msg\u001b[38;5;241m.\u001b[39mformat(name) \u001b[38;5;28;01mfor\u001b[39;00m available, msg \u001b[38;5;129;01min\u001b[39;00m checks \u001b[38;5;28;01mif\u001b[39;00m \u001b[38;5;129;01mnot\u001b[39;00m available()]\n\u001b[1;32m   1487\u001b[0m \u001b[38;5;28;01mif\u001b[39;00m failed:\n\u001b[0;32m-> 1488\u001b[0m     \u001b[38;5;28;01mraise\u001b[39;00m \u001b[38;5;167;01mImportError\u001b[39;00m(\u001b[38;5;124m\"\u001b[39m\u001b[38;5;124m\"\u001b[39m\u001b[38;5;241m.\u001b[39mjoin(failed))\n",
      "\u001b[0;31mImportError\u001b[0m: \nAutoModelForCausalLM requires the PyTorch library but it was not found in your environment. Checkout the instructions on the\ninstallation page: https://pytorch.org/get-started/locally/ and follow the ones that match your environment.\nPlease note that you may need to restart your runtime after installation.\n"
     ]
    }
   ],
   "source": []
  }
 ],
 "metadata": {
  "kernelspec": {
   "display_name": ".venv",
   "language": "python",
   "name": "python3"
  },
  "language_info": {
   "codemirror_mode": {
    "name": "ipython",
    "version": 3
   },
   "file_extension": ".py",
   "mimetype": "text/x-python",
   "name": "python",
   "nbconvert_exporter": "python",
   "pygments_lexer": "ipython3",
   "version": "3.10.12"
  }
 },
 "nbformat": 4,
 "nbformat_minor": 2
}
